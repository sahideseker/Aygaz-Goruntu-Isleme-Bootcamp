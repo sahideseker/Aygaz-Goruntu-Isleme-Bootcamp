{
 "cells": [
  {
   "cell_type": "markdown",
   "id": "8e59d350-2bf1-431a-8a55-19d1e77c5a14",
   "metadata": {
    "jp-MarkdownHeadingCollapsed": true
   },
   "source": [
    "<h2> kütüphaneleri kurma işlemi </h2>"
   ]
  },
  {
   "cell_type": "code",
   "execution_count": null,
   "id": "ca32e37d-4d0d-41b2-a189-846eb75d94b7",
   "metadata": {},
   "outputs": [],
   "source": [
    "import os\n",
    "import shutil\n",
    "import cv2\n",
    "import numpy as np\n",
    "from tensorflow.keras.preprocessing.image import ImageDataGenerator\n",
    "import matplotlib.pyplot as plt\n",
    "from tensorflow.keras.models import Sequential\n",
    "from tensorflow.keras.layers import Conv2D, MaxPooling2D, Flatten, Dense, Dropout\n",
    "from sklearn.model_selection import train_test_split"
   ]
  },
  {
   "cell_type": "code",
   "execution_count": 48,
   "id": "65f4aa60-1a60-4948-a439-7db05fef4541",
   "metadata": {},
   "outputs": [
    {
     "name": "stdout",
     "output_type": "stream",
     "text": [
      "Collecting tensorflow\n",
      "  Downloading tensorflow-2.18.0-cp312-cp312-macosx_12_0_arm64.whl.metadata (4.0 kB)\n",
      "Collecting absl-py>=1.0.0 (from tensorflow)\n",
      "  Downloading absl_py-2.1.0-py3-none-any.whl.metadata (2.3 kB)\n",
      "Collecting astunparse>=1.6.0 (from tensorflow)\n",
      "  Downloading astunparse-1.6.3-py2.py3-none-any.whl.metadata (4.4 kB)\n",
      "Collecting flatbuffers>=24.3.25 (from tensorflow)\n",
      "  Downloading flatbuffers-24.3.25-py2.py3-none-any.whl.metadata (850 bytes)\n",
      "Collecting gast!=0.5.0,!=0.5.1,!=0.5.2,>=0.2.1 (from tensorflow)\n",
      "  Downloading gast-0.6.0-py3-none-any.whl.metadata (1.3 kB)\n",
      "Collecting google-pasta>=0.1.1 (from tensorflow)\n",
      "  Downloading google_pasta-0.2.0-py3-none-any.whl.metadata (814 bytes)\n",
      "Collecting libclang>=13.0.0 (from tensorflow)\n",
      "  Downloading libclang-18.1.1-1-py2.py3-none-macosx_11_0_arm64.whl.metadata (5.2 kB)\n",
      "Collecting opt-einsum>=2.3.2 (from tensorflow)\n",
      "  Downloading opt_einsum-3.4.0-py3-none-any.whl.metadata (6.3 kB)\n",
      "Requirement already satisfied: packaging in /opt/anaconda3/lib/python3.12/site-packages (from tensorflow) (23.2)\n",
      "Requirement already satisfied: protobuf!=4.21.0,!=4.21.1,!=4.21.2,!=4.21.3,!=4.21.4,!=4.21.5,<6.0.0dev,>=3.20.3 in /opt/anaconda3/lib/python3.12/site-packages (from tensorflow) (3.20.3)\n",
      "Requirement already satisfied: requests<3,>=2.21.0 in /opt/anaconda3/lib/python3.12/site-packages (from tensorflow) (2.32.2)\n",
      "Requirement already satisfied: setuptools in /opt/anaconda3/lib/python3.12/site-packages (from tensorflow) (69.5.1)\n",
      "Requirement already satisfied: six>=1.12.0 in /opt/anaconda3/lib/python3.12/site-packages (from tensorflow) (1.16.0)\n",
      "Collecting termcolor>=1.1.0 (from tensorflow)\n",
      "  Downloading termcolor-2.5.0-py3-none-any.whl.metadata (6.1 kB)\n",
      "Requirement already satisfied: typing-extensions>=3.6.6 in /opt/anaconda3/lib/python3.12/site-packages (from tensorflow) (4.11.0)\n",
      "Requirement already satisfied: wrapt>=1.11.0 in /opt/anaconda3/lib/python3.12/site-packages (from tensorflow) (1.14.1)\n",
      "Collecting grpcio<2.0,>=1.24.3 (from tensorflow)\n",
      "  Downloading grpcio-1.68.1-cp312-cp312-macosx_10_9_universal2.whl.metadata (3.9 kB)\n",
      "Collecting tensorboard<2.19,>=2.18 (from tensorflow)\n",
      "  Downloading tensorboard-2.18.0-py3-none-any.whl.metadata (1.6 kB)\n",
      "Collecting keras>=3.5.0 (from tensorflow)\n",
      "  Downloading keras-3.7.0-py3-none-any.whl.metadata (5.8 kB)\n",
      "Requirement already satisfied: numpy<2.1.0,>=1.26.0 in /opt/anaconda3/lib/python3.12/site-packages (from tensorflow) (1.26.4)\n",
      "Requirement already satisfied: h5py>=3.11.0 in /opt/anaconda3/lib/python3.12/site-packages (from tensorflow) (3.11.0)\n",
      "Collecting ml-dtypes<0.5.0,>=0.4.0 (from tensorflow)\n",
      "  Downloading ml_dtypes-0.4.1-cp312-cp312-macosx_10_9_universal2.whl.metadata (20 kB)\n",
      "Requirement already satisfied: wheel<1.0,>=0.23.0 in /opt/anaconda3/lib/python3.12/site-packages (from astunparse>=1.6.0->tensorflow) (0.43.0)\n",
      "Requirement already satisfied: rich in /opt/anaconda3/lib/python3.12/site-packages (from keras>=3.5.0->tensorflow) (13.3.5)\n",
      "Collecting namex (from keras>=3.5.0->tensorflow)\n",
      "  Downloading namex-0.0.8-py3-none-any.whl.metadata (246 bytes)\n",
      "Collecting optree (from keras>=3.5.0->tensorflow)\n",
      "  Downloading optree-0.13.1-cp312-cp312-macosx_11_0_arm64.whl.metadata (47 kB)\n",
      "\u001b[2K     \u001b[90m━━━━━━━━━━━━━━━━━━━━━━━━━━━━━━━━━━━━━━━\u001b[0m \u001b[32m47.8/47.8 kB\u001b[0m \u001b[31m746.9 kB/s\u001b[0m eta \u001b[36m0:00:00\u001b[0m \u001b[36m0:00:01\u001b[0m\n",
      "\u001b[?25hRequirement already satisfied: charset-normalizer<4,>=2 in /opt/anaconda3/lib/python3.12/site-packages (from requests<3,>=2.21.0->tensorflow) (2.0.4)\n",
      "Requirement already satisfied: idna<4,>=2.5 in /opt/anaconda3/lib/python3.12/site-packages (from requests<3,>=2.21.0->tensorflow) (3.7)\n",
      "Requirement already satisfied: urllib3<3,>=1.21.1 in /opt/anaconda3/lib/python3.12/site-packages (from requests<3,>=2.21.0->tensorflow) (2.2.2)\n",
      "Requirement already satisfied: certifi>=2017.4.17 in /opt/anaconda3/lib/python3.12/site-packages (from requests<3,>=2.21.0->tensorflow) (2024.8.30)\n",
      "Requirement already satisfied: markdown>=2.6.8 in /opt/anaconda3/lib/python3.12/site-packages (from tensorboard<2.19,>=2.18->tensorflow) (3.4.1)\n",
      "Collecting tensorboard-data-server<0.8.0,>=0.7.0 (from tensorboard<2.19,>=2.18->tensorflow)\n",
      "  Downloading tensorboard_data_server-0.7.2-py3-none-any.whl.metadata (1.1 kB)\n",
      "Requirement already satisfied: werkzeug>=1.0.1 in /opt/anaconda3/lib/python3.12/site-packages (from tensorboard<2.19,>=2.18->tensorflow) (3.0.3)\n",
      "Requirement already satisfied: MarkupSafe>=2.1.1 in /opt/anaconda3/lib/python3.12/site-packages (from werkzeug>=1.0.1->tensorboard<2.19,>=2.18->tensorflow) (2.1.3)\n",
      "Requirement already satisfied: markdown-it-py<3.0.0,>=2.2.0 in /opt/anaconda3/lib/python3.12/site-packages (from rich->keras>=3.5.0->tensorflow) (2.2.0)\n",
      "Requirement already satisfied: pygments<3.0.0,>=2.13.0 in /opt/anaconda3/lib/python3.12/site-packages (from rich->keras>=3.5.0->tensorflow) (2.15.1)\n",
      "Requirement already satisfied: mdurl~=0.1 in /opt/anaconda3/lib/python3.12/site-packages (from markdown-it-py<3.0.0,>=2.2.0->rich->keras>=3.5.0->tensorflow) (0.1.0)\n",
      "Downloading tensorflow-2.18.0-cp312-cp312-macosx_12_0_arm64.whl (239.6 MB)\n",
      "\u001b[2K   \u001b[90m━━━━━━━━━━━━━━━━━━━━━━━━━━━━━━━━━━━━━━━━\u001b[0m \u001b[32m239.6/239.6 MB\u001b[0m \u001b[31m3.1 MB/s\u001b[0m eta \u001b[36m0:00:00\u001b[0m00:01\u001b[0m00:02\u001b[0m\n",
      "\u001b[?25hDownloading absl_py-2.1.0-py3-none-any.whl (133 kB)\n",
      "\u001b[2K   \u001b[90m━━━━━━━━━━━━━━━━━━━━━━━━━━━━━━━━━━━━━━━━\u001b[0m \u001b[32m133.7/133.7 kB\u001b[0m \u001b[31m3.4 MB/s\u001b[0m eta \u001b[36m0:00:00\u001b[0m\n",
      "\u001b[?25hDownloading astunparse-1.6.3-py2.py3-none-any.whl (12 kB)\n",
      "Downloading flatbuffers-24.3.25-py2.py3-none-any.whl (26 kB)\n",
      "Downloading gast-0.6.0-py3-none-any.whl (21 kB)\n",
      "Downloading google_pasta-0.2.0-py3-none-any.whl (57 kB)\n",
      "\u001b[2K   \u001b[90m━━━━━━━━━━━━━━━━━━━━━━━━━━━━━━━━━━━━━━━━\u001b[0m \u001b[32m57.5/57.5 kB\u001b[0m \u001b[31m2.0 MB/s\u001b[0m eta \u001b[36m0:00:00\u001b[0m\n",
      "\u001b[?25hDownloading grpcio-1.68.1-cp312-cp312-macosx_10_9_universal2.whl (11.1 MB)\n",
      "\u001b[2K   \u001b[90m━━━━━━━━━━━━━━━━━━━━━━━━━━━━━━━━━━━━━━━━\u001b[0m \u001b[32m11.1/11.1 MB\u001b[0m \u001b[31m4.1 MB/s\u001b[0m eta \u001b[36m0:00:00\u001b[0m00:01\u001b[0m00:01\u001b[0m\n",
      "\u001b[?25hDownloading keras-3.7.0-py3-none-any.whl (1.2 MB)\n",
      "\u001b[2K   \u001b[90m━━━━━━━━━━━━━━━━━━━━━━━━━━━━━━━━━━━━━━━━\u001b[0m \u001b[32m1.2/1.2 MB\u001b[0m \u001b[31m4.1 MB/s\u001b[0m eta \u001b[36m0:00:00\u001b[0ma \u001b[36m0:00:01\u001b[0m\n",
      "\u001b[?25hDownloading libclang-18.1.1-1-py2.py3-none-macosx_11_0_arm64.whl (25.8 MB)\n",
      "\u001b[2K   \u001b[90m━━━━━━━━━━━━━━━━━━━━━━━━━━━━━━━━━━━━━━━━\u001b[0m \u001b[32m25.8/25.8 MB\u001b[0m \u001b[31m4.1 MB/s\u001b[0m eta \u001b[36m0:00:00\u001b[0m00:01\u001b[0m00:01\u001b[0m\n",
      "\u001b[?25hDownloading ml_dtypes-0.4.1-cp312-cp312-macosx_10_9_universal2.whl (405 kB)\n",
      "\u001b[2K   \u001b[90m━━━━━━━━━━━━━━━━━━━━━━━━━━━━━━━━━━━━━━━━\u001b[0m \u001b[32m405.1/405.1 kB\u001b[0m \u001b[31m3.9 MB/s\u001b[0m eta \u001b[36m0:00:00\u001b[0ma \u001b[36m0:00:01\u001b[0m\n",
      "\u001b[?25hDownloading opt_einsum-3.4.0-py3-none-any.whl (71 kB)\n",
      "\u001b[2K   \u001b[90m━━━━━━━━━━━━━━━━━━━━━━━━━━━━━━━━━━━━━━━━\u001b[0m \u001b[32m71.9/71.9 kB\u001b[0m \u001b[31m3.0 MB/s\u001b[0m eta \u001b[36m0:00:00\u001b[0m\n",
      "\u001b[?25hDownloading tensorboard-2.18.0-py3-none-any.whl (5.5 MB)\n",
      "\u001b[2K   \u001b[90m━━━━━━━━━━━━━━━━━━━━━━━━━━━━━━━━━━━━━━━━\u001b[0m \u001b[32m5.5/5.5 MB\u001b[0m \u001b[31m3.4 MB/s\u001b[0m eta \u001b[36m0:00:00\u001b[0m00:01\u001b[0m00:01\u001b[0m\n",
      "\u001b[?25hDownloading termcolor-2.5.0-py3-none-any.whl (7.8 kB)\n",
      "Downloading tensorboard_data_server-0.7.2-py3-none-any.whl (2.4 kB)\n",
      "Downloading namex-0.0.8-py3-none-any.whl (5.8 kB)\n",
      "Downloading optree-0.13.1-cp312-cp312-macosx_11_0_arm64.whl (322 kB)\n",
      "\u001b[2K   \u001b[90m━━━━━━━━━━━━━━━━━━━━━━━━━━━━━━━━━━━━━━━━\u001b[0m \u001b[32m322.3/322.3 kB\u001b[0m \u001b[31m3.7 MB/s\u001b[0m eta \u001b[36m0:00:00\u001b[0m00:01\u001b[0m00:01\u001b[0m\n",
      "\u001b[?25hInstalling collected packages: namex, libclang, flatbuffers, termcolor, tensorboard-data-server, optree, opt-einsum, ml-dtypes, grpcio, google-pasta, gast, astunparse, absl-py, tensorboard, keras, tensorflow\n",
      "Successfully installed absl-py-2.1.0 astunparse-1.6.3 flatbuffers-24.3.25 gast-0.6.0 google-pasta-0.2.0 grpcio-1.68.1 keras-3.7.0 libclang-18.1.1 ml-dtypes-0.4.1 namex-0.0.8 opt-einsum-3.4.0 optree-0.13.1 tensorboard-2.18.0 tensorboard-data-server-0.7.2 tensorflow-2.18.0 termcolor-2.5.0\n",
      "Note: you may need to restart the kernel to use updated packages.\n"
     ]
    }
   ],
   "source": [
    "pip install tensorflow"
   ]
  },
  {
   "cell_type": "code",
   "execution_count": 26,
   "id": "039ec91d-b5c2-4ac6-85a2-2939a17b865e",
   "metadata": {},
   "outputs": [
    {
     "name": "stdout",
     "output_type": "stream",
     "text": [
      "Collecting opencv-contrib-python\n",
      "  Downloading opencv_contrib_python-4.10.0.84-cp37-abi3-macosx_11_0_arm64.whl.metadata (20 kB)\n",
      "Requirement already satisfied: numpy>=1.21.2 in /opt/anaconda3/lib/python3.12/site-packages (from opencv-contrib-python) (1.26.4)\n",
      "Downloading opencv_contrib_python-4.10.0.84-cp37-abi3-macosx_11_0_arm64.whl (63.7 MB)\n",
      "\u001b[2K   \u001b[90m━━━━━━━━━━━━━━━━━━━━━━━━━━━━━━━━━━━━━━━━\u001b[0m \u001b[32m63.7/63.7 MB\u001b[0m \u001b[31m4.1 MB/s\u001b[0m eta \u001b[36m0:00:00\u001b[0m00:01\u001b[0m00:01\u001b[0m\n",
      "\u001b[?25hInstalling collected packages: opencv-contrib-python\n",
      "Successfully installed opencv-contrib-python-4.10.0.84\n",
      "Note: you may need to restart the kernel to use updated packages.\n"
     ]
    }
   ],
   "source": [
    "pip install opencv-contrib-python\n"
   ]
  },
  {
   "cell_type": "code",
   "execution_count": 25,
   "id": "66422c49-41b9-49f9-979b-a260b54abc73",
   "metadata": {},
   "outputs": [
    {
     "name": "stdout",
     "output_type": "stream",
     "text": [
      "Collecting opencv-python\n",
      "  Downloading opencv_python-4.10.0.84-cp37-abi3-macosx_11_0_arm64.whl.metadata (20 kB)\n",
      "Requirement already satisfied: numpy>=1.21.2 in /opt/anaconda3/lib/python3.12/site-packages (from opencv-python) (1.26.4)\n",
      "Downloading opencv_python-4.10.0.84-cp37-abi3-macosx_11_0_arm64.whl (54.8 MB)\n",
      "\u001b[2K   \u001b[90m━━━━━━━━━━━━━━━━━━━━━━━━━━━━━━━━━━━━━━━━\u001b[0m \u001b[32m54.8/54.8 MB\u001b[0m \u001b[31m4.1 MB/s\u001b[0m eta \u001b[36m0:00:00\u001b[0m00:01\u001b[0m00:01\u001b[0m\n",
      "\u001b[?25hInstalling collected packages: opencv-python\n",
      "Successfully installed opencv-python-4.10.0.84\n",
      "Note: you may need to restart the kernel to use updated packages.\n"
     ]
    }
   ],
   "source": [
    "pip install opencv-python\n"
   ]
  },
  {
   "cell_type": "markdown",
   "id": "aec52226-05d8-4e3d-a9e2-b674bc761688",
   "metadata": {},
   "source": [
    "<h1> 1. Veri Setini Hazırlama </h1>"
   ]
  },
  {
   "cell_type": "code",
   "execution_count": 30,
   "id": "d512dd73-3592-4f9e-973f-23ee846518f6",
   "metadata": {},
   "outputs": [
    {
     "name": "stdout",
     "output_type": "stream",
     "text": [
      "Toplam 50 sınıf bulundu.\n",
      "İlk 5 sınıf: ['hippopotamus', 'gorilla', 'rhinoceros', 'raccoon', 'humpback+whale']\n"
     ]
    }
   ],
   "source": [
    "base_path = \"Animals_with_Attributes2/JPEGImages/\"\n",
    "\n",
    "class_names = os.listdir(base_path)\n",
    "print(f\"Toplam {len(class_names)} sınıf bulundu.\")\n",
    "print(\"İlk 5 sınıf:\", class_names[:5])\n"
   ]
  },
  {
   "cell_type": "markdown",
   "id": "597a25bd-9628-4ac3-a0a2-c86f8b5caac6",
   "metadata": {},
   "source": [
    "-base_path: \"Animals_with_Attributes2/JPEGImages/\" klasör yolu, veri setinin bulunduğu temel klasörün yolunu temsil eder. Bu klasör, her bir hayvan sınıfına ait görüntülerin alt klasörler halinde düzenlendiği yerdir.\n",
    "\n",
    "-os.listdir(base_path) Fonksiyonu: Bu fonksiyon, belirtilen klasördeki tüm dosya ve klasör isimlerini bir liste olarak döndürür. Burada, her bir hayvan sınıfına ait klasör isimleri bu listeye eklenir ve class_names değişkeninde tutulur.\n",
    "\n",
    "-len(class_names) İle Toplam Sınıf Sayısı: len() fonksiyonu, listede kaç öğe olduğunu hesaplar ve toplam sınıf sayısını verir.\n",
    "\n",
    "-print() İle Çıktı Gösterimi: print(f\"Toplam {len(class_names)} sınıf bulundu.\"): Veri setinde kaç adet sınıf bulunduğunu yazdırır. print(\"İlk 5 sınıf:\", class_names[:5]): İlk 5 sınıf ismini liste olarak yazdırır. "
   ]
  },
  {
   "cell_type": "markdown",
   "id": "22cdc0b7-7622-4d87-b1e6-21f723dc5954",
   "metadata": {},
   "source": [
    "<h2> 10 sınıfa ait görselleri ayırma </h2>"
   ]
  },
  {
   "cell_type": "code",
   "execution_count": 33,
   "id": "5fd7a167-53a2-4443-8532-a4fb34258539",
   "metadata": {},
   "outputs": [
    {
     "name": "stdout",
     "output_type": "stream",
     "text": [
      "Seçilen sınıflar başarıyla ayıklandı ve FilteredDataset klasörüne kopyalandı.\n"
     ]
    }
   ],
   "source": [
    "filtered_path = \"Animals_with_Attributes2/FilteredDataset/\"\n",
    "os.makedirs(filtered_path, exist_ok=True)\n",
    "\n",
    "selected_classes = ['collie', 'dolphin', 'elephant', 'fox', 'moose', \n",
    "                    'rabbit', 'sheep', 'squirrel', 'giant+panda', 'polar+bear']\n",
    "\n",
    "for class_name in selected_classes:\n",
    "    source_folder = os.path.join(base_path, class_name)\n",
    "    target_folder = os.path.join(filtered_path, class_name)\n",
    "    os.makedirs(target_folder, exist_ok=True)\n",
    "    for i, file_name in enumerate(os.listdir(source_folder)):\n",
    "        if i < 650:  # İlk 650 görsel\n",
    "            shutil.copy(os.path.join(source_folder, file_name), target_folder)\n",
    "\n",
    "print(\"Seçilen sınıflar başarıyla ayıklandı ve FilteredDataset klasörüne kopyalandı.\")\n"
   ]
  },
  {
   "cell_type": "markdown",
   "id": "19a66c8f-004a-4e06-8a36-faa8641e207d",
   "metadata": {},
   "source": [
    "-filtered_path Tanımlaması: filtered_path değişkeni, seçilen sınıfların görsellerinin kopyalanacağı klasörün yolunu belirler. Burada \"Animals_with_Attributes2/FilteredDataset/\" klasörü oluşturulur.\n",
    "\n",
    "-os.makedirs(filtered_path, exist_ok=True): Belirtilen klasör yoksa oluşturur. Eğer klasör zaten mevcutsa bir hata vermez (exist_ok=True).\n",
    "\n",
    "-Seçilen Sınıflar: selected_classes listesi, projede kullanılacak hayvan sınıflarını içerir. Veri setindeki klasör isimleriyle tam uyumlu olmalıdır (örneğin, giant panda yerine giant+panda).\n",
    "\n",
    "-for Döngüsü ile Sınıf Ayıklama: Döngü, selected_classes listesindeki her bir sınıf için çalışır.\n",
    "\n",
    "-source_folder ve target_folder: source_folder: Seçilen sınıfın orijinal klasörünü temsil eder. target_folder: Seçilen sınıfa ait görüntülerin kopyalanacağı klasörü temsil eder. Her iki klasör os.path.join() ile birleştirilir.\n",
    "\n",
    "İlk 650 Görselin Kopyalanması\n",
    "\n",
    "-enumerate(os.listdir(source_folder)): Orijinal klasördeki dosyaları tek tek listeler ve numaralandırır.\n",
    "\n",
    "-if i < 650:: İlk 650 görüntü seçilir. Böylece veri dengesi sağlanır.\n",
    "\n",
    "-shutil.copy: Seçilen görüntüleri orijinal klasörden çıktı klasörüne kopyalar."
   ]
  },
  {
   "cell_type": "markdown",
   "id": "cb7ab796-b6c8-452f-a004-e82ffa877520",
   "metadata": {},
   "source": [
    "<h2> görsellerin boyutlandırılması ve normalize edilmesi </h2>"
   ]
  },
  {
   "cell_type": "code",
   "execution_count": 59,
   "id": "33db7b88-cd4e-4280-8ba0-b612fd19ca2a",
   "metadata": {},
   "outputs": [
    {
     "name": "stdout",
     "output_type": "stream",
     "text": [
      "Toplam görsel sayısı: 6500\n",
      "Görsellerin boyutu: (128, 128, 3)\n"
     ]
    }
   ],
   "source": [
    "image_size = (128, 128)\n",
    "\n",
    "images = []\n",
    "labels = []\n",
    "label_map = {class_name: idx for idx, class_name in enumerate(selected_classes)}\n",
    "\n",
    "for class_name in selected_classes:\n",
    "    class_folder = os.path.join(filtered_path, class_name)\n",
    "    for file_name in os.listdir(class_folder):\n",
    "        file_path = os.path.join(class_folder, file_name)\n",
    "        # Görseli oku ve boyutlandır\n",
    "        img = cv2.imread(file_path)\n",
    "        img_resized = cv2.resize(img, image_size)\n",
    "        img_normalized = img_resized / 255.0  # Normalize et\n",
    "        images.append(img_normalized)\n",
    "        labels.append(label_map[class_name])\n",
    "\n",
    "images = np.array(images)\n",
    "labels = np.array(labels)\n",
    "\n",
    "print(f\"Toplam görsel sayısı: {images.shape[0]}\")\n",
    "print(f\"Görsellerin boyutu: {images.shape[1:]}\")  # Her görselin boyutunu göster\n"
   ]
  },
  {
   "cell_type": "markdown",
   "id": "9bccdd33-a66f-4b84-ab56-cec4167e7064",
   "metadata": {},
   "source": [
    "Hedef Boyutun Belirlenmesi\n",
    "\n",
    "-image_size = (128, 128): Görseller, CNN modelinin giriş boyutuna uygun hale getirilmek üzere 128x128 piksel boyutunda yeniden boyutlandırılacaktır.\n",
    "\n",
    "Veri Yapılarının Hazırlanması\n",
    "\n",
    "-images: İşlenmiş (boyutlandırılmış ve normalize edilmiş) görselleri depolamak için bir liste.\n",
    "\n",
    "-labels: Her görselin sınıf etiketini tutmak için bir liste.\n",
    "\n",
    "-label_map: Sınıf isimlerini (ör. collie) sınıf indeksine (ör. 0) eşleyen bir sözlük oluşturur.\n",
    "\n",
    "Görsellerin Okunması ve İşlenmesi\n",
    "\n",
    "-for döngüsü: Her bir sınıfın görüntü klasöründeki dosyaları sırayla işler.\n",
    "\n",
    "-cv2.imread(file_path): Görseli belirtilen dosya yolundan okur.\n",
    "\n",
    "-cv2.resize(img, image_size): Görseli 128x128 boyutuna yeniden boyutlandırır.\n",
    "\n",
    "-img_resized / 255.0: Piksel değerlerini [0, 255] aralığından [0, 1] aralığına ölçekleyerek normalize eder. İşlenmiş görsel, images listesine eklenir. Görsele ait sınıf etiketi, labels listesine eklenir.\n",
    "\n",
    "NumPy Dizilerine Dönüştürme\n",
    "\n",
    "-images = np.array(images): İşlenmiş tüm görseller bir NumPy dizisine dönüştürülür.\n",
    "\n",
    "-labels = np.array(labels): Etiketler bir NumPy dizisine dönüştürülür.\n",
    "\n",
    "Çıktı Gösterimi\n",
    "\n",
    "-images.shape[0]: Toplam görsel sayısını döndürür.\n",
    "\n",
    "-images.shape[1:]: Her bir görselin boyutunu (ör. (128, 128, 3)) gösterir.\n"
   ]
  },
  {
   "cell_type": "markdown",
   "id": "f6bb605d-c210-4653-a2f6-4b109e265bfe",
   "metadata": {},
   "source": [
    "<h2> görsellerin %70'ini eğitim, %30'unu test verisi olarak ayırma </h2>"
   ]
  },
  {
   "cell_type": "code",
   "execution_count": 43,
   "id": "cd55319e-41f8-4b69-895d-65fd4f9c3d1e",
   "metadata": {},
   "outputs": [
    {
     "name": "stdout",
     "output_type": "stream",
     "text": [
      "Eğitim veri boyutu: (4550, 128, 128, 3), Etiket boyutu: 4550\n",
      "Test veri boyutu: (1950, 128, 128, 3), Etiket boyutu: 1950\n"
     ]
    }
   ],
   "source": [
    "X_train, X_test, y_train, y_test = train_test_split(images, labels, test_size=0.3, random_state=42)\n",
    "\n",
    "print(f\"Eğitim veri boyutu: {X_train.shape}, Etiket boyutu: {len(y_train)}\")\n",
    "print(f\"Test veri boyutu: {X_test.shape}, Etiket boyutu: {len(y_test)}\")\n"
   ]
  },
  {
   "cell_type": "markdown",
   "id": "ebf92a6a-dd4c-46ef-819e-9af93e45665d",
   "metadata": {},
   "source": [
    "Veri Setini Eğitim ve Test Olarak Ayırma: train_test_split(images, labels, test_size=0.3, random_state=42)\n",
    "\n",
    "-train_test_split: Verileri eğitim ve test seti olarak böler.\n",
    "\n",
    "-images: Görsellerin tamamı.\n",
    "\n",
    "-labels: Görsellerin sınıf etiketleri.\n",
    "\n",
    "-test_size=0.3: Verilerin %30'u test setine, %70'i eğitim setine ayrılır.\n",
    "\n",
    "-random_state=42: Her çalıştırmada aynı veri bölme işlemi yapılmasını sağlar, böylece sonuçlar tekrar edilebilir olur.\n",
    "\n",
    "Değişkenler:\n",
    "\n",
    "-X_train: Eğitim için kullanılacak görseller.\n",
    "\n",
    "-X_test: Test için kullanılacak görseller.\n",
    "\n",
    "-y_train: Eğitim görsellerinin sınıf etiketleri.\n",
    "\n",
    "-y_test: Test görsellerinin sınıf etiketleri.\n",
    "\n",
    "-Verilerin Boyutlarını Kontrol Etme:\n",
    "\n",
    "-X_train.shape: Eğitim görsellerinin boyutlarını (örneğin, (4550, 128, 128, 3)) döndürür.\n",
    "\n",
    "-len(y_train): Eğitim setindeki toplam etiket sayısını döndürür.\n",
    "\n",
    "-X_test.shape: Test görsellerinin boyutlarını (örneğin, (1950, 128, 128, 3)) döndürür.\n",
    "\n",
    "-len(y_test): Test setindeki toplam etiket sayısını döndürür.\n",
    "\n",
    "-print() Çıktıları: Eğitim ve test setlerindeki görsel ve etiket sayılarının doğru ayrıldığını kontrol etmek için bu çıktılar önemlidir."
   ]
  },
  {
   "cell_type": "markdown",
   "id": "3fff8490-e32f-4435-b735-971c6352e2da",
   "metadata": {},
   "source": [
    "<h2> modelin performansını artırmak için veri artırma (augmentation) işlemlerinin yapılması </h2>"
   ]
  },
  {
   "cell_type": "code",
   "execution_count": 61,
   "id": "564920bd-0938-4a72-9d59-75a9f6753796",
   "metadata": {},
   "outputs": [
    {
     "name": "stdout",
     "output_type": "stream",
     "text": [
      "Veri artırma işlemi tamamlandı.\n"
     ]
    }
   ],
   "source": [
    "datagen = ImageDataGenerator(\n",
    "    rotation_range=20,          # Rastgele dönüş\n",
    "    width_shift_range=0.2,      # Genişlikte kaydırma\n",
    "    height_shift_range=0.2,     # Yükseklikte kaydırma\n",
    "    shear_range=0.2,            # Kesme\n",
    "    zoom_range=0.2,             # Yakınlaştırma/Uzaklaştırma\n",
    "    horizontal_flip=True,       # Yatay çevirme\n",
    "    fill_mode='nearest'         # Eksik pikselleri doldurma\n",
    ")\n",
    "\n",
    "datagen.fit(X_train)\n",
    "\n",
    "print(\"Veri artırma işlemi tamamlandı.\")\n"
   ]
  },
  {
   "cell_type": "markdown",
   "id": "23f3ee92-a2e2-4e40-9bd6-eb06f545d65c",
   "metadata": {},
   "source": [
    "ImageDataGenerator Kullanımı: ImageDataGenerator, veri artırma (augmentation) işlemleri için kullanılır. Eğitim verisini çeşitlendirmek için çeşitli görüntü manipülasyonları uygulanır. Bu, modelin genelleme yeteneğini artırır ve overfitting'i önler.\n",
    "\n",
    "Veri Artırma Parametreleri:\n",
    "\n",
    "-rotation_range=20: Görseller rastgele ±20 derece döndürülür.\n",
    "\n",
    "-width_shift_range=0.2: Görseller yatay eksende rastgele %20 oranında kaydırılır.\n",
    "\n",
    "-height_shift_range=0.2: Görseller dikey eksende rastgele %20 oranında kaydırılır.\n",
    "\n",
    "-shear_range=0.2: Görsellere rastgele kesme işlemi uygulanır.\n",
    "\n",
    "-zoom_range=0.2: Görsellere rastgele yakınlaştırma veya uzaklaştırma uygulanır.\n",
    "\n",
    "-horizontal_flip=True: Görseller yatay eksende rastgele çevrilir.\n",
    "\n",
    "-fill_mode='nearest': Manipülasyon sonucunda oluşan boş pikseller, en yakın piksel değerleriyle doldurulur.\n",
    "\n",
    "-datagen.fit(X_train): Eğitim seti üzerinde veri artırma işlemi uygulanır.\n",
    "\n",
    "Bu işlem, her eğitim adımında verileri gerçek zamanlı olarak manipüle ederek çeşitlendirir.\n",
    "\n",
    "-Çıktı Mesajı: \"Veri artırma işlemi tamamlandı.\" mesajı, veri artırma işleminin başarıyla tamamlandığını gösterir.\n"
   ]
  },
  {
   "cell_type": "markdown",
   "id": "28d47cfc-49be-447e-a818-a7cb092ef469",
   "metadata": {},
   "source": [
    "<h1> 2. CNN Modelinin Tasarlanması </1>"
   ]
  },
  {
   "cell_type": "code",
   "execution_count": 72,
   "id": "42a26adb-e117-48e7-b198-92f346e6aea3",
   "metadata": {},
   "outputs": [
    {
     "name": "stderr",
     "output_type": "stream",
     "text": [
      "/opt/anaconda3/lib/python3.12/site-packages/keras/src/layers/convolutional/base_conv.py:107: UserWarning: Do not pass an `input_shape`/`input_dim` argument to a layer. When using Sequential models, prefer using an `Input(shape)` object as the first layer in the model instead.\n",
      "  super().__init__(activity_regularizer=activity_regularizer, **kwargs)\n"
     ]
    },
    {
     "data": {
      "text/html": [
       "<pre style=\"white-space:pre;overflow-x:auto;line-height:normal;font-family:Menlo,'DejaVu Sans Mono',consolas,'Courier New',monospace\"><span style=\"font-weight: bold\">Model: \"sequential\"</span>\n",
       "</pre>\n"
      ],
      "text/plain": [
       "\u001b[1mModel: \"sequential\"\u001b[0m\n"
      ]
     },
     "metadata": {},
     "output_type": "display_data"
    },
    {
     "data": {
      "text/html": [
       "<pre style=\"white-space:pre;overflow-x:auto;line-height:normal;font-family:Menlo,'DejaVu Sans Mono',consolas,'Courier New',monospace\">┏━━━━━━━━━━━━━━━━━━━━━━━━━━━━━━━━━┳━━━━━━━━━━━━━━━━━━━━━━━━┳━━━━━━━━━━━━━━━┓\n",
       "┃<span style=\"font-weight: bold\"> Layer (type)                    </span>┃<span style=\"font-weight: bold\"> Output Shape           </span>┃<span style=\"font-weight: bold\">       Param # </span>┃\n",
       "┡━━━━━━━━━━━━━━━━━━━━━━━━━━━━━━━━━╇━━━━━━━━━━━━━━━━━━━━━━━━╇━━━━━━━━━━━━━━━┩\n",
       "│ conv2d (<span style=\"color: #0087ff; text-decoration-color: #0087ff\">Conv2D</span>)                 │ (<span style=\"color: #00d7ff; text-decoration-color: #00d7ff\">None</span>, <span style=\"color: #00af00; text-decoration-color: #00af00\">126</span>, <span style=\"color: #00af00; text-decoration-color: #00af00\">126</span>, <span style=\"color: #00af00; text-decoration-color: #00af00\">32</span>)   │           <span style=\"color: #00af00; text-decoration-color: #00af00\">896</span> │\n",
       "├─────────────────────────────────┼────────────────────────┼───────────────┤\n",
       "│ max_pooling2d (<span style=\"color: #0087ff; text-decoration-color: #0087ff\">MaxPooling2D</span>)    │ (<span style=\"color: #00d7ff; text-decoration-color: #00d7ff\">None</span>, <span style=\"color: #00af00; text-decoration-color: #00af00\">63</span>, <span style=\"color: #00af00; text-decoration-color: #00af00\">63</span>, <span style=\"color: #00af00; text-decoration-color: #00af00\">32</span>)     │             <span style=\"color: #00af00; text-decoration-color: #00af00\">0</span> │\n",
       "├─────────────────────────────────┼────────────────────────┼───────────────┤\n",
       "│ dropout (<span style=\"color: #0087ff; text-decoration-color: #0087ff\">Dropout</span>)               │ (<span style=\"color: #00d7ff; text-decoration-color: #00d7ff\">None</span>, <span style=\"color: #00af00; text-decoration-color: #00af00\">63</span>, <span style=\"color: #00af00; text-decoration-color: #00af00\">63</span>, <span style=\"color: #00af00; text-decoration-color: #00af00\">32</span>)     │             <span style=\"color: #00af00; text-decoration-color: #00af00\">0</span> │\n",
       "├─────────────────────────────────┼────────────────────────┼───────────────┤\n",
       "│ conv2d_1 (<span style=\"color: #0087ff; text-decoration-color: #0087ff\">Conv2D</span>)               │ (<span style=\"color: #00d7ff; text-decoration-color: #00d7ff\">None</span>, <span style=\"color: #00af00; text-decoration-color: #00af00\">61</span>, <span style=\"color: #00af00; text-decoration-color: #00af00\">61</span>, <span style=\"color: #00af00; text-decoration-color: #00af00\">64</span>)     │        <span style=\"color: #00af00; text-decoration-color: #00af00\">18,496</span> │\n",
       "├─────────────────────────────────┼────────────────────────┼───────────────┤\n",
       "│ max_pooling2d_1 (<span style=\"color: #0087ff; text-decoration-color: #0087ff\">MaxPooling2D</span>)  │ (<span style=\"color: #00d7ff; text-decoration-color: #00d7ff\">None</span>, <span style=\"color: #00af00; text-decoration-color: #00af00\">30</span>, <span style=\"color: #00af00; text-decoration-color: #00af00\">30</span>, <span style=\"color: #00af00; text-decoration-color: #00af00\">64</span>)     │             <span style=\"color: #00af00; text-decoration-color: #00af00\">0</span> │\n",
       "├─────────────────────────────────┼────────────────────────┼───────────────┤\n",
       "│ dropout_1 (<span style=\"color: #0087ff; text-decoration-color: #0087ff\">Dropout</span>)             │ (<span style=\"color: #00d7ff; text-decoration-color: #00d7ff\">None</span>, <span style=\"color: #00af00; text-decoration-color: #00af00\">30</span>, <span style=\"color: #00af00; text-decoration-color: #00af00\">30</span>, <span style=\"color: #00af00; text-decoration-color: #00af00\">64</span>)     │             <span style=\"color: #00af00; text-decoration-color: #00af00\">0</span> │\n",
       "├─────────────────────────────────┼────────────────────────┼───────────────┤\n",
       "│ flatten (<span style=\"color: #0087ff; text-decoration-color: #0087ff\">Flatten</span>)               │ (<span style=\"color: #00d7ff; text-decoration-color: #00d7ff\">None</span>, <span style=\"color: #00af00; text-decoration-color: #00af00\">57600</span>)          │             <span style=\"color: #00af00; text-decoration-color: #00af00\">0</span> │\n",
       "├─────────────────────────────────┼────────────────────────┼───────────────┤\n",
       "│ dense (<span style=\"color: #0087ff; text-decoration-color: #0087ff\">Dense</span>)                   │ (<span style=\"color: #00d7ff; text-decoration-color: #00d7ff\">None</span>, <span style=\"color: #00af00; text-decoration-color: #00af00\">128</span>)            │     <span style=\"color: #00af00; text-decoration-color: #00af00\">7,372,928</span> │\n",
       "├─────────────────────────────────┼────────────────────────┼───────────────┤\n",
       "│ dropout_2 (<span style=\"color: #0087ff; text-decoration-color: #0087ff\">Dropout</span>)             │ (<span style=\"color: #00d7ff; text-decoration-color: #00d7ff\">None</span>, <span style=\"color: #00af00; text-decoration-color: #00af00\">128</span>)            │             <span style=\"color: #00af00; text-decoration-color: #00af00\">0</span> │\n",
       "├─────────────────────────────────┼────────────────────────┼───────────────┤\n",
       "│ dense_1 (<span style=\"color: #0087ff; text-decoration-color: #0087ff\">Dense</span>)                 │ (<span style=\"color: #00d7ff; text-decoration-color: #00d7ff\">None</span>, <span style=\"color: #00af00; text-decoration-color: #00af00\">10</span>)             │         <span style=\"color: #00af00; text-decoration-color: #00af00\">1,290</span> │\n",
       "└─────────────────────────────────┴────────────────────────┴───────────────┘\n",
       "</pre>\n"
      ],
      "text/plain": [
       "┏━━━━━━━━━━━━━━━━━━━━━━━━━━━━━━━━━┳━━━━━━━━━━━━━━━━━━━━━━━━┳━━━━━━━━━━━━━━━┓\n",
       "┃\u001b[1m \u001b[0m\u001b[1mLayer (type)                   \u001b[0m\u001b[1m \u001b[0m┃\u001b[1m \u001b[0m\u001b[1mOutput Shape          \u001b[0m\u001b[1m \u001b[0m┃\u001b[1m \u001b[0m\u001b[1m      Param #\u001b[0m\u001b[1m \u001b[0m┃\n",
       "┡━━━━━━━━━━━━━━━━━━━━━━━━━━━━━━━━━╇━━━━━━━━━━━━━━━━━━━━━━━━╇━━━━━━━━━━━━━━━┩\n",
       "│ conv2d (\u001b[38;5;33mConv2D\u001b[0m)                 │ (\u001b[38;5;45mNone\u001b[0m, \u001b[38;5;34m126\u001b[0m, \u001b[38;5;34m126\u001b[0m, \u001b[38;5;34m32\u001b[0m)   │           \u001b[38;5;34m896\u001b[0m │\n",
       "├─────────────────────────────────┼────────────────────────┼───────────────┤\n",
       "│ max_pooling2d (\u001b[38;5;33mMaxPooling2D\u001b[0m)    │ (\u001b[38;5;45mNone\u001b[0m, \u001b[38;5;34m63\u001b[0m, \u001b[38;5;34m63\u001b[0m, \u001b[38;5;34m32\u001b[0m)     │             \u001b[38;5;34m0\u001b[0m │\n",
       "├─────────────────────────────────┼────────────────────────┼───────────────┤\n",
       "│ dropout (\u001b[38;5;33mDropout\u001b[0m)               │ (\u001b[38;5;45mNone\u001b[0m, \u001b[38;5;34m63\u001b[0m, \u001b[38;5;34m63\u001b[0m, \u001b[38;5;34m32\u001b[0m)     │             \u001b[38;5;34m0\u001b[0m │\n",
       "├─────────────────────────────────┼────────────────────────┼───────────────┤\n",
       "│ conv2d_1 (\u001b[38;5;33mConv2D\u001b[0m)               │ (\u001b[38;5;45mNone\u001b[0m, \u001b[38;5;34m61\u001b[0m, \u001b[38;5;34m61\u001b[0m, \u001b[38;5;34m64\u001b[0m)     │        \u001b[38;5;34m18,496\u001b[0m │\n",
       "├─────────────────────────────────┼────────────────────────┼───────────────┤\n",
       "│ max_pooling2d_1 (\u001b[38;5;33mMaxPooling2D\u001b[0m)  │ (\u001b[38;5;45mNone\u001b[0m, \u001b[38;5;34m30\u001b[0m, \u001b[38;5;34m30\u001b[0m, \u001b[38;5;34m64\u001b[0m)     │             \u001b[38;5;34m0\u001b[0m │\n",
       "├─────────────────────────────────┼────────────────────────┼───────────────┤\n",
       "│ dropout_1 (\u001b[38;5;33mDropout\u001b[0m)             │ (\u001b[38;5;45mNone\u001b[0m, \u001b[38;5;34m30\u001b[0m, \u001b[38;5;34m30\u001b[0m, \u001b[38;5;34m64\u001b[0m)     │             \u001b[38;5;34m0\u001b[0m │\n",
       "├─────────────────────────────────┼────────────────────────┼───────────────┤\n",
       "│ flatten (\u001b[38;5;33mFlatten\u001b[0m)               │ (\u001b[38;5;45mNone\u001b[0m, \u001b[38;5;34m57600\u001b[0m)          │             \u001b[38;5;34m0\u001b[0m │\n",
       "├─────────────────────────────────┼────────────────────────┼───────────────┤\n",
       "│ dense (\u001b[38;5;33mDense\u001b[0m)                   │ (\u001b[38;5;45mNone\u001b[0m, \u001b[38;5;34m128\u001b[0m)            │     \u001b[38;5;34m7,372,928\u001b[0m │\n",
       "├─────────────────────────────────┼────────────────────────┼───────────────┤\n",
       "│ dropout_2 (\u001b[38;5;33mDropout\u001b[0m)             │ (\u001b[38;5;45mNone\u001b[0m, \u001b[38;5;34m128\u001b[0m)            │             \u001b[38;5;34m0\u001b[0m │\n",
       "├─────────────────────────────────┼────────────────────────┼───────────────┤\n",
       "│ dense_1 (\u001b[38;5;33mDense\u001b[0m)                 │ (\u001b[38;5;45mNone\u001b[0m, \u001b[38;5;34m10\u001b[0m)             │         \u001b[38;5;34m1,290\u001b[0m │\n",
       "└─────────────────────────────────┴────────────────────────┴───────────────┘\n"
      ]
     },
     "metadata": {},
     "output_type": "display_data"
    },
    {
     "data": {
      "text/html": [
       "<pre style=\"white-space:pre;overflow-x:auto;line-height:normal;font-family:Menlo,'DejaVu Sans Mono',consolas,'Courier New',monospace\"><span style=\"font-weight: bold\"> Total params: </span><span style=\"color: #00af00; text-decoration-color: #00af00\">7,393,610</span> (28.20 MB)\n",
       "</pre>\n"
      ],
      "text/plain": [
       "\u001b[1m Total params: \u001b[0m\u001b[38;5;34m7,393,610\u001b[0m (28.20 MB)\n"
      ]
     },
     "metadata": {},
     "output_type": "display_data"
    },
    {
     "data": {
      "text/html": [
       "<pre style=\"white-space:pre;overflow-x:auto;line-height:normal;font-family:Menlo,'DejaVu Sans Mono',consolas,'Courier New',monospace\"><span style=\"font-weight: bold\"> Trainable params: </span><span style=\"color: #00af00; text-decoration-color: #00af00\">7,393,610</span> (28.20 MB)\n",
       "</pre>\n"
      ],
      "text/plain": [
       "\u001b[1m Trainable params: \u001b[0m\u001b[38;5;34m7,393,610\u001b[0m (28.20 MB)\n"
      ]
     },
     "metadata": {},
     "output_type": "display_data"
    },
    {
     "data": {
      "text/html": [
       "<pre style=\"white-space:pre;overflow-x:auto;line-height:normal;font-family:Menlo,'DejaVu Sans Mono',consolas,'Courier New',monospace\"><span style=\"font-weight: bold\"> Non-trainable params: </span><span style=\"color: #00af00; text-decoration-color: #00af00\">0</span> (0.00 B)\n",
       "</pre>\n"
      ],
      "text/plain": [
       "\u001b[1m Non-trainable params: \u001b[0m\u001b[38;5;34m0\u001b[0m (0.00 B)\n"
      ]
     },
     "metadata": {},
     "output_type": "display_data"
    }
   ],
   "source": [
    "model = Sequential([\n",
    "    Conv2D(32, (3, 3), activation='relu', input_shape=(128, 128, 3)),\n",
    "    MaxPooling2D(pool_size=(2, 2)),\n",
    "    Dropout(0.25),\n",
    "    Conv2D(64, (3, 3), activation='relu'),\n",
    "    MaxPooling2D(pool_size=(2, 2)),\n",
    "    Dropout(0.25),\n",
    "    Flatten(),\n",
    "    Dense(128, activation='relu'),\n",
    "    Dropout(0.5),\n",
    "    Dense(10, activation='softmax')  # 10 sınıf için softmax\n",
    "])\n",
    "\n",
    "model.compile(optimizer='adam', loss='sparse_categorical_crossentropy', metrics=['accuracy'])\n",
    "\n",
    "model.summary()\n"
   ]
  },
  {
   "cell_type": "markdown",
   "id": "46f1ea9d-3b38-4c2b-848b-0e0ddd33c240",
   "metadata": {},
   "source": [
    "Modelin Yapısı\n",
    "\n",
    "Model, bir Convolutional Neural Network (CNN) olarak tasarlanmıştır ve aşağıdaki katmanlardan oluşur:\n",
    "\n",
    "İlk Konvolüsyon Katmanı:\n",
    "\n",
    "-Conv2D(32, (3, 3), activation='relu'): 32 filtre, 3x3 boyutunda bir çekirdek (kernel) kullanır. ReLU aktivasyon fonksiyonu ile doğrusal olmayan bir dönüşüm uygular.\n",
    "\n",
    "-Çıkış: (128, 128, 3) giriş boyutu (126, 126, 32) olarak dönüştürülür.\n",
    "\n",
    "MaxPooling Katmanı:\n",
    "\n",
    "-MaxPooling2D(pool_size=(2, 2)): Havuzlama işlemi, giriş boyutunu yarıya indirir.\n",
    "\n",
    "-Çıkış: (63, 63, 32).\n",
    "\n",
    "Dropout Katmanı:\n",
    "\n",
    "-Dropout(0.25): Rastgele nöronların %25'ini geçici olarak kapatarak overfitting'i önler.\n",
    "\n",
    "İkinci Konvolüsyon Katmanı:\n",
    "\n",
    "-Conv2D(64, (3, 3), activation='relu'): 64 filtre, 3x3 çekirdek kullanır.\n",
    "\n",
    "-Çıkış: (61, 61, 64).\n",
    "\n",
    "MaxPooling Katmanı ve Dropout:\n",
    "\n",
    "-Havuzlama: Çıkış (30, 30, 64).\n",
    "\n",
    "-Dropout: %25 oranında nöron kapatılır.\n",
    "\n",
    "Flatten Katmanı:\n",
    "\n",
    "-Flatten(): Çok boyutlu konvolüsyon çıktısını tek boyutlu bir vektöre dönüştürür.\n",
    "\n",
    "-Çıkış: (57600).\n",
    "\n",
    "Tam Bağlantılı (Dense) Katman:\n",
    "\n",
    "-Dense(128, activation='relu'): 128 nöron ile tam bağlantı sağlar.\n",
    "\n",
    "-Dropout(0.5): %50 oranında nöron kapatılır.\n",
    "\n",
    "Çıkış Katmanı:\n",
    "\n",
    "-Dense(10, activation='softmax'): 10 sınıf için olasılık değerlerini döndürür. Softmax aktivasyonu, her sınıfın toplamı 1 olacak şekilde olasılık dağılımı sağlar.\n",
    "\n",
    "Modelin Derlenmesi\n",
    "\n",
    "-Optimizasyon:\n",
    "\n",
    "-adam: Adaptive Moment Estimation (Adam) algoritması.\n",
    "\n",
    "Kayıp Fonksiyonu: sparse_categorical_crossentropy: Çok sınıflı sınıflandırma problemleri için uygundur. Etiketler birer tamsayıdır (ör. [0, 1, 2, ..., 9]).\n",
    "\n",
    "Metrikler: \n",
    "\n",
    "-accuracy: Eğitim sırasında doğruluk ölçülür.\n",
    "\n",
    "Model Özeti\n",
    "model.summary(): Modelin her katmanının çıktı boyutunu, parametre sayısını ve toplam parametre sayısını özetler.\n"
   ]
  },
  {
   "cell_type": "markdown",
   "id": "6559e076-6755-4ba3-be8e-1ca0ded712af",
   "metadata": {},
   "source": [
    "<h1>4. Modelin Eğitilmesi ve Test Edilmesi</h1>"
   ]
  },
  {
   "cell_type": "code",
   "execution_count": 75,
   "id": "04c71389-4bf8-42be-a9df-ea6d4de5e075",
   "metadata": {},
   "outputs": [
    {
     "name": "stdout",
     "output_type": "stream",
     "text": [
      "Epoch 1/10\n"
     ]
    },
    {
     "name": "stderr",
     "output_type": "stream",
     "text": [
      "/opt/anaconda3/lib/python3.12/site-packages/keras/src/trainers/data_adapters/py_dataset_adapter.py:121: UserWarning: Your `PyDataset` class should call `super().__init__(**kwargs)` in its constructor. `**kwargs` can include `workers`, `use_multiprocessing`, `max_queue_size`. Do not pass these arguments to `fit()`, as they will be ignored.\n",
      "  self._warn_if_super_not_called()\n"
     ]
    },
    {
     "name": "stdout",
     "output_type": "stream",
     "text": [
      "\u001b[1m143/143\u001b[0m \u001b[32m━━━━━━━━━━━━━━━━━━━━\u001b[0m\u001b[37m\u001b[0m \u001b[1m52s\u001b[0m 357ms/step - accuracy: 0.1316 - loss: 3.0254 - val_accuracy: 0.2990 - val_loss: 2.0604\n",
      "Epoch 2/10\n",
      "\u001b[1m143/143\u001b[0m \u001b[32m━━━━━━━━━━━━━━━━━━━━\u001b[0m\u001b[37m\u001b[0m \u001b[1m50s\u001b[0m 349ms/step - accuracy: 0.2801 - loss: 2.0162 - val_accuracy: 0.3713 - val_loss: 1.8833\n",
      "Epoch 3/10\n",
      "\u001b[1m143/143\u001b[0m \u001b[32m━━━━━━━━━━━━━━━━━━━━\u001b[0m\u001b[37m\u001b[0m \u001b[1m50s\u001b[0m 348ms/step - accuracy: 0.3308 - loss: 1.8804 - val_accuracy: 0.4138 - val_loss: 1.7455\n",
      "Epoch 4/10\n",
      "\u001b[1m143/143\u001b[0m \u001b[32m━━━━━━━━━━━━━━━━━━━━\u001b[0m\u001b[37m\u001b[0m \u001b[1m50s\u001b[0m 349ms/step - accuracy: 0.3666 - loss: 1.7899 - val_accuracy: 0.4282 - val_loss: 1.7559\n",
      "Epoch 5/10\n",
      "\u001b[1m143/143\u001b[0m \u001b[32m━━━━━━━━━━━━━━━━━━━━\u001b[0m\u001b[37m\u001b[0m \u001b[1m50s\u001b[0m 351ms/step - accuracy: 0.3670 - loss: 1.7855 - val_accuracy: 0.4538 - val_loss: 1.5764\n",
      "Epoch 6/10\n",
      "\u001b[1m143/143\u001b[0m \u001b[32m━━━━━━━━━━━━━━━━━━━━\u001b[0m\u001b[37m\u001b[0m \u001b[1m50s\u001b[0m 352ms/step - accuracy: 0.3931 - loss: 1.7163 - val_accuracy: 0.4862 - val_loss: 1.5534\n",
      "Epoch 7/10\n",
      "\u001b[1m143/143\u001b[0m \u001b[32m━━━━━━━━━━━━━━━━━━━━\u001b[0m\u001b[37m\u001b[0m \u001b[1m50s\u001b[0m 349ms/step - accuracy: 0.4104 - loss: 1.6706 - val_accuracy: 0.4969 - val_loss: 1.4869\n",
      "Epoch 8/10\n",
      "\u001b[1m143/143\u001b[0m \u001b[32m━━━━━━━━━━━━━━━━━━━━\u001b[0m\u001b[37m\u001b[0m \u001b[1m50s\u001b[0m 349ms/step - accuracy: 0.4284 - loss: 1.6418 - val_accuracy: 0.5000 - val_loss: 1.4719\n",
      "Epoch 9/10\n",
      "\u001b[1m143/143\u001b[0m \u001b[32m━━━━━━━━━━━━━━━━━━━━\u001b[0m\u001b[37m\u001b[0m \u001b[1m50s\u001b[0m 348ms/step - accuracy: 0.4366 - loss: 1.6229 - val_accuracy: 0.5108 - val_loss: 1.4479\n",
      "Epoch 10/10\n",
      "\u001b[1m143/143\u001b[0m \u001b[32m━━━━━━━━━━━━━━━━━━━━\u001b[0m\u001b[37m\u001b[0m \u001b[1m50s\u001b[0m 351ms/step - accuracy: 0.4584 - loss: 1.5784 - val_accuracy: 0.5451 - val_loss: 1.3704\n"
     ]
    }
   ],
   "source": [
    "history = model.fit(\n",
    "    datagen.flow(X_train, y_train, batch_size=32),  # Veri artırma ile eğitim\n",
    "    validation_data=(X_test, y_test),               # Test verisiyle doğrulama\n",
    "    epochs=10,                                      # Eğitim epoch sayısı\n",
    "    verbose=1                                       # Eğitim ilerlemesini göster\n",
    ")"
   ]
  },
  {
   "cell_type": "markdown",
   "id": "023ad09b-70bb-42ae-a249-9c0ce62d2116",
   "metadata": {},
   "source": [
    "Modelin Eğitilmesi:\n",
    "\n",
    "-model.fit(): Modeli, belirtilen eğitim verisiyle eğitir. Eğitim sırasında, doğrulama verisi (test seti) kullanılarak modelin her epoch sonunda doğruluk ve kayıp değerleri değerlendirilir.\n",
    "\n",
    "Parametreler:\n",
    "\n",
    "-datagen.flow(X_train, y_train, batch_size=32): Eğitim verisine veri artırma (augmentation) uygulanır.\n",
    "\n",
    "-batch_size=32: Her adımda 32 örnek kullanılarak mini-batch gradyan inişi uygulanır.\n",
    "\n",
    "-validation_data=(X_test, y_test): Test verisi doğrulama (validation) için kullanılır. Modelin, daha önce görmediği veri üzerinde nasıl performans gösterdiği ölçülür.\n",
    "\n",
    "-epochs=10: Model, eğitim verisi üzerinde 10 kez tam tur (epoch) çalıştırılır.\n",
    "\n",
    "-verbose=1: Eğitim ilerleme çubuğunu ve epoch sonuçlarını ekrana yazdırır.\n",
    "\n",
    "-history Nesnesi: history, eğitim süreci boyunca kaydedilen metrikleri (ör. doğruluk ve kayıp değerleri) tutar.\n",
    "Bu veriler, eğitim sonrası analiz ve görselleştirme için kullanılır.\n"
   ]
  },
  {
   "cell_type": "markdown",
   "id": "fa2fa2dc-43f3-4429-a1c9-961be95100da",
   "metadata": {},
   "source": [
    "<h2>doğruluk ve kayıp değerlerini analiz etmek için eğitim sürecini görselleştirme</h2>"
   ]
  },
  {
   "cell_type": "code",
   "execution_count": 77,
   "id": "83c77e17-5563-4633-ada8-b3f1ab77121c",
   "metadata": {},
   "outputs": [
    {
     "data": {
      "image/png": "[encoded data removed]",
      "text/plain": [
       "<Figure size 640x480 with 1 Axes>"
      ]
     },
     "metadata": {},
     "output_type": "display_data"
    },
    {
     "data": {
      "image/png": "[encoded data removed]",
      "text/plain": [
       "<Figure size 640x480 with 1 Axes>"
      ]
     },
     "metadata": {},
     "output_type": "display_data"
    }
   ],
   "source": [
    "plt.plot(history.history['accuracy'], label='Eğitim Doğruluğu')\n",
    "plt.plot(history.history['val_accuracy'], label='Doğrulama Doğruluğu')\n",
    "plt.xlabel('Epoch')\n",
    "plt.ylabel('Doğruluk')\n",
    "plt.legend()\n",
    "plt.title('Eğitim ve Doğrulama Doğruluğu')\n",
    "plt.show()\n",
    "\n",
    "plt.plot(history.history['loss'], label='Eğitim Kaybı')\n",
    "plt.plot(history.history['val_loss'], label='Doğrulama Kaybı')\n",
    "plt.xlabel('Epoch')\n",
    "plt.ylabel('Kayıp')\n",
    "plt.legend()\n",
    "plt.title('Eğitim ve Doğrulama Kaybı')\n",
    "plt.show()\n"
   ]
  },
  {
   "cell_type": "markdown",
   "id": "f3c42b19-dfb8-4ffe-b372-cd84021db63e",
   "metadata": {},
   "source": [
    "Eğitim ve Doğrulama Doğruluğu Grafiği\n",
    "\n",
    "-plt.plot(history.history['accuracy']): Modelin her epoch sonunda, eğitim setindeki doğruluğunu (accuracy) çizer.\n",
    "\n",
    "-plt.plot(history.history['val_accuracy']): Modelin doğrulama (validation) setindeki doğruluğunu (val_accuracy) çizer.\n",
    "\n",
    "Grafik Detayları:\n",
    "\n",
    "-xlabel('Epoch'): X ekseninde epoch sayısını gösterir.\n",
    "\n",
    "-ylabel('Doğruluk'): Y ekseninde doğruluk oranını gösterir.\n",
    "\n",
    "-legend(): Eğitim ve doğrulama doğruluğu için bir açıklama ekler.\n",
    "\n",
    "-title(): Grafiğe bir başlık ekler.\n",
    "\n",
    "Eğitim ve Doğrulama Kaybı Grafiği\n",
    "\n",
    "-plt.plot(history.history['loss']): Eğitim setindeki kayıp değerlerini (loss) çizer.\n",
    "\n",
    "-plt.plot(history.history['val_loss']): Doğrulama (validation) setindeki kayıp değerlerini (val_loss) çizer.\n",
    "\n",
    "Grafik Detayları:\n",
    "\n",
    "-ylabel('Kayıp'): Y ekseninde kayıp oranını gösterir.\n",
    "\n",
    "-title(): Grafiğe \"Eğitim ve Doğrulama Kaybı\" başlığını ekler.\n",
    "\n",
    "Grafikler:\n",
    "\n",
    "Eğitim ve Doğrulama Doğruluğu\n",
    "\n",
    "-Grafik, modelin doğruluk oranının her epoch boyunca nasıl değiştiğini gösterir:\n",
    "\n",
    "-Eğitim Doğruluğu: Modelin eğitim verisi üzerindeki doğruluğu.\n",
    "\n",
    "-Doğrulama Doğruluğu: Modelin görmediği test verisi üzerindeki doğruluğu.\n",
    "\n",
    "Eğitim ve Doğrulama Kaybı\n",
    "\n",
    "Grafik, modelin kayıp değerinin her epoch boyunca nasıl değiştiğini gösterir:\n",
    "\n",
    "-Eğitim Kaybı: Modelin eğitim verisi üzerindeki kayıp değeri.\n",
    "\n",
    "-Doğrulama Kaybı: Modelin test verisi üzerindeki kayıp değeri.\n",
    "\n",
    "Analiz:\n",
    "\n",
    "-Doğruluk Grafiği: Eğitim ve doğrulama doğruluğu birbirine yakınsa, model genellemede başarılıdır.\n",
    "Eğer doğrulama doğruluğu çok düşükse veya sabit kalıyorsa, model underfitting olabilir.\n",
    "\n",
    "-Kayıp Grafiği: Eğitim ve doğrulama kayıpları birbirine paralel düşüyorsa, model doğru bir şekilde öğreniyor demektir.\n",
    "Eğer doğrulama kaybı artarken eğitim kaybı düşüyorsa, model overfitting olabilir."
   ]
  },
  {
   "cell_type": "markdown",
   "id": "0aae367d-c815-4de0-bd41-ad481bbc353a",
   "metadata": {},
   "source": [
    "<h1>5. Resimlerin Farklı Işıklar ile Manipüle Edilmesi</h1>"
   ]
  },
  {
   "cell_type": "code",
   "execution_count": 85,
   "id": "cc0fa7a3-3c87-406d-85b9-b735e397d7f6",
   "metadata": {},
   "outputs": [
    {
     "name": "stdout",
     "output_type": "stream",
     "text": [
      "Manipüle edilmiş test seti boyutu: (1950, 128, 128, 3)\n"
     ]
    }
   ],
   "source": [
    "def get_manipulated_images(images):\n",
    "    manipulated_images = []\n",
    "    for img in images:\n",
    "        manipulated = cv2.convertScaleAbs(img, alpha=1.2, beta=50)  # Parlaklık artırma\n",
    "        manipulated_images.append(manipulated)\n",
    "    return np.array(manipulated_images)\n",
    "\n",
    "manipulated_test_images = get_manipulated_images(X_test)\n",
    "\n",
    "print(f\"Manipüle edilmiş test seti boyutu: {manipulated_test_images.shape}\")\n"
   ]
  },
  {
   "cell_type": "markdown",
   "id": "0f547633-2bed-45b6-8d59-54b0898c0f60",
   "metadata": {},
   "source": [
    "get_manipulated_images Fonksiyonu:\n",
    "\n",
    "-Amaç: Verilen görüntülerin parlaklık seviyesini artırarak manipüle edilmiş bir görüntü seti oluşturur.\n",
    "\n",
    "Parametre:\n",
    "\n",
    "-images: Manipüle edilecek görüntülerin bir listesini veya NumPy dizisini alır.\n",
    "\n",
    "İşlem: \n",
    "\n",
    "-cv2.convertScaleAbs(img, alpha=1.2, beta=50): OpenCV'nin parlaklık ve kontrast ayarı için kullanılan fonksiyonudur.\n",
    "\n",
    "-alpha=1.2: Kontrast oranını artırır.\n",
    "\n",
    "-beta=50: Parlaklık değerini artırır. Manipüle edilen görüntü, manipulated_images listesine eklenir.\n",
    "\n",
    "Dönüş:\n",
    "\n",
    "-Manipüle edilmiş görüntülerin bir NumPy dizisi olarak döndürülür.\n",
    "\n",
    "Manipüle Edilmiş Test Setinin Oluşturulması:\n",
    "\n",
    "-manipulated_test_images: Test setindeki (X_test) tüm görüntüler üzerinde parlaklık artırma işlemi yapılır. Manipüle edilen görüntüler, yeni bir NumPy dizisi olarak manipulated_test_images değişkeninde saklanır.\n",
    "\n",
    "Çıktı Gösterimi:\n",
    "\n",
    "-print(f\"Manipüle edilmiş test seti boyutu: {manipulated_test_images.shape}\"):\n",
    "\n",
    "-Manipüle edilmiş test setinin toplam boyutunu yazdırır. Bu boyut, orijinal test setiyle aynı olmalıdır (örneğin, (1950, 128, 128, 3)).\n"
   ]
  },
  {
   "cell_type": "markdown",
   "id": "a8f60200-0502-4400-be64-204a21ad20e4",
   "metadata": {},
   "source": [
    "<h1>6. Manipüle Edilmiş Test Seti ile Modelin Test Edilmesi</h1>"
   ]
  },
  {
   "cell_type": "code",
   "execution_count": 88,
   "id": "824ccbd1-1d7f-4aff-befd-92d5476998d8",
   "metadata": {},
   "outputs": [
    {
     "name": "stdout",
     "output_type": "stream",
     "text": [
      "\u001b[1m61/61\u001b[0m \u001b[32m━━━━━━━━━━━━━━━━━━━━\u001b[0m\u001b[37m\u001b[0m \u001b[1m5s\u001b[0m 82ms/step - accuracy: 0.0985 - loss: 116.5218\n",
      "Manipüle edilmiş test seti doğruluğu: 10.05%\n"
     ]
    }
   ],
   "source": [
    "manipulated_results = model.evaluate(manipulated_test_images, y_test)\n",
    "print(f\"Manipüle edilmiş test seti doğruluğu: {manipulated_results[1] * 100:.2f}%\")\n"
   ]
  },
  {
   "cell_type": "markdown",
   "id": "c2a18f5b-72b1-4f0b-8308-3433c4539ef5",
   "metadata": {},
   "source": [
    "Bu kod, manipüle edilmiş test seti üzerinde modelin performansını değerlendirir. Manipüle edilmiş test seti, modelin parlaklık değişiklikleri gibi görüntü manipülasyonlarına karşı ne kadar dayanıklı olduğunu anlamak için kullanılır.\n",
    "\n",
    "Modeli Değerlendirme:\n",
    "\n",
    "-model.evaluate(): Modelin belirtilen veri kümesi (manipulated_test_images) üzerindeki doğruluk ve kayıp değerlerini hesaplar.\n",
    "\n",
    "Parametreler:\n",
    "\n",
    "-manipulated_test_images: Manipüle edilmiş test görselleri.\n",
    "\n",
    "-y_test: Test setindeki gerçek etiketler.\n",
    "\n",
    "Çıktı:\n",
    "\n",
    "-Bir tuple döner: (loss, accuracy)\n",
    "\n",
    "-loss: Manipüle edilmiş test setindeki kayıp değeri.\n",
    "\n",
    "-accuracy: Manipüle edilmiş test setindeki doğruluk oranı.\n",
    "\n",
    "Doğruluk Oranı Gösterimi:\n",
    "\n",
    "-manipulated_results[1]: Modelin doğruluk oranını (accuracy) temsil eder.\n",
    "\n",
    "-manipulated_results[1] * 100: Doğruluk oranını yüzdelik olarak ifade eder."
   ]
  },
  {
   "cell_type": "markdown",
   "id": "0f425801-91bf-40f4-9385-f00890a08e61",
   "metadata": {},
   "source": [
    "<h1>7. Manipüle Edilmiş Test Setine Renk Sabitliği Algoritması Uygulanması</h1>"
   ]
  },
  {
   "cell_type": "code",
   "execution_count": 91,
   "id": "96293c66-61af-4063-b9f8-25bc5a55e23f",
   "metadata": {},
   "outputs": [
    {
     "name": "stdout",
     "output_type": "stream",
     "text": [
      "Renk sabitliği uygulanmış test seti boyutu: (1950, 128, 128, 3)\n"
     ]
    }
   ],
   "source": [
    "def get_wb_images(images):\n",
    "    wb_images = []\n",
    "    for img in images:\n",
    "        gray_world = cv2.xphoto.createGrayworldWB()  # OpenCV'nin Gray World algoritması\n",
    "        wb_img = gray_world.balanceWhite((img * 255).astype(np.uint8))  # Renk sabitliği uygula\n",
    "        wb_images.append(wb_img / 255.0)  # Normalizasyonu tekrar yap\n",
    "    return np.array(wb_images)\n",
    "\n",
    "color_corrected_images = get_wb_images(manipulated_test_images)\n",
    "\n",
    "print(f\"Renk sabitliği uygulanmış test seti boyutu: {color_corrected_images.shape}\")\n"
   ]
  },
  {
   "cell_type": "markdown",
   "id": "fd8ccfb4-a13a-4d6e-b3f9-0db84b3eb298",
   "metadata": {},
   "source": [
    "Bu kod, manipüle edilmiş test seti üzerinde modelin performansını değerlendirir. Manipüle edilmiş test seti, modelin parlaklık değişiklikleri gibi görüntü manipülasyonlarına karşı ne kadar dayanıklı olduğunu anlamak için kullanılır.\n",
    "\n",
    "Modeli Değerlendirme:\n",
    "\n",
    "-model.evaluate(): Modelin belirtilen veri kümesi (manipulated_test_images) üzerindeki doğruluk ve kayıp değerlerini hesaplar.\n",
    "\n",
    "Parametreler:\n",
    "\n",
    "-manipulated_test_images: Manipüle edilmiş test görselleri.\n",
    "\n",
    "-y_test: Test setindeki gerçek etiketler.\n",
    "\n",
    "Çıktı:\n",
    "\n",
    "-Bir tuple döner: (loss, accuracy)\n",
    "\n",
    "-loss: Manipüle edilmiş test setindeki kayıp değeri.\n",
    "\n",
    "-accuracy: Manipüle edilmiş test setindeki doğruluk oranı.\n",
    "\n",
    "Doğruluk Oranı Gösterimi:\n",
    "\n",
    "-manipulated_results[1]: Modelin doğruluk oranını (accuracy) temsil eder.\n",
    "\n",
    "-manipulated_results[1] * 100: Doğruluk oranını yüzdelik olarak ifade eder."
   ]
  },
  {
   "cell_type": "markdown",
   "id": "6a1e2b02-04f5-4e2a-976c-1e4917766e0a",
   "metadata": {},
   "source": [
    "<h1>8. Modelin Renk Sabitliği Uygulanmış Test Seti ile Denenmesi</h1>"
   ]
  },
  {
   "cell_type": "code",
   "execution_count": 94,
   "id": "12288c7b-cdcb-4305-b90a-1b2c46416097",
   "metadata": {},
   "outputs": [
    {
     "name": "stdout",
     "output_type": "stream",
     "text": [
      "\u001b[1m61/61\u001b[0m \u001b[32m━━━━━━━━━━━━━━━━━━━━\u001b[0m\u001b[37m\u001b[0m \u001b[1m5s\u001b[0m 78ms/step - accuracy: 0.0985 - loss: 2.7450\n",
      "Renk sabitliği uygulanmış test seti doğruluğu: 10.05%\n"
     ]
    }
   ],
   "source": [
    "# Renk sabitliği uygulanmış test setinde modeli değerlendirme\n",
    "corrected_results = model.evaluate(color_corrected_images, y_test)\n",
    "print(f\"Renk sabitliği uygulanmış test seti doğruluğu: {corrected_results[1] * 100:.2f}%\")\n"
   ]
  },
  {
   "cell_type": "markdown",
   "id": "6cdc645b-99eb-4809-b763-a8106dbf35b7",
   "metadata": {},
   "source": [
    "Bu kod, renk sabitliği uygulanmış test seti üzerinde modelin performansını değerlendirir. Bu adım, modelin renk sapmalarına karşı genelleme yeteneğini test etmek için kullanılır.\n",
    "\n",
    "Modelin Değerlendirilmesi:\n",
    "\n",
    "-model.evaluate(): Modeli belirtilen veri seti (color_corrected_images) ve etiketler (y_test) üzerinde değerlendirir.\n",
    "\n",
    "Çıktı:\n",
    "\n",
    "-loss: Test setindeki kayıp değeri.\n",
    "\n",
    "-accuracy: Test setindeki doğruluk oranı.\n",
    "\n",
    "Kullanılan parametreler:\n",
    "\n",
    "-color_corrected_images: Renk sabitliği uygulanmış test seti.\n",
    "-y_test: Test setindeki gerçek etiketler.\n",
    "\n",
    "Doğruluk Oranının Gösterilmesi:\n",
    "\n",
    "-corrected_results[1]: Modelin test doğruluk oranını (accuracy) döndürür.\n",
    "-corrected_results[1] * 100: Yüzdelik doğruluk oranını hesaplar."
   ]
  },
  {
   "cell_type": "markdown",
   "id": "fec5dd3b-67e4-40e9-877f-9f1b933f536b",
   "metadata": {},
   "source": [
    "<h1>9. Farklı Test Setlerinin Başarılarını Karşılaştırma ve Raporlama</h1>"
   ]
  },
  {
   "cell_type": "code",
   "execution_count": 98,
   "id": "718e65d5-eab1-4089-89ba-71bd720a2361",
   "metadata": {},
   "outputs": [
    {
     "name": "stdout",
     "output_type": "stream",
     "text": [
      "Orijinal Test Seti Doğruluk: 54.51%\n",
      "Manipüle Test Seti Doğruluk: 10.05%\n",
      "Renk Sabitliği Test Seti Doğruluk: 10.05%\n"
     ]
    },
    {
     "data": {
      "image/png": "[encoded data removed]",
      "text/plain": [
       "<Figure size 640x480 with 1 Axes>"
      ]
     },
     "metadata": {},
     "output_type": "display_data"
    }
   ],
   "source": [
    "# Sonuçları birleştir\n",
    "results = {\n",
    "    \"Orijinal Test Seti\": history.history['val_accuracy'][-1] * 100,\n",
    "    \"Manipüle Test Seti\": manipulated_results[1] * 100,\n",
    "    \"Renk Sabitliği Test Seti\": corrected_results[1] * 100\n",
    "}\n",
    "\n",
    "# Sonuçları yazdır\n",
    "for test_set, accuracy in results.items():\n",
    "    print(f\"{test_set} Doğruluk: {accuracy:.2f}%\")\n",
    "\n",
    "# Sonuçları görselleştir\n",
    "import matplotlib.pyplot as plt\n",
    "\n",
    "plt.bar(results.keys(), results.values())\n",
    "plt.ylabel('Doğruluk (%)')\n",
    "plt.title('Farklı Test Setlerinde Model Performansı')\n",
    "plt.show()\n"
   ]
  },
  {
   "cell_type": "markdown",
   "id": "3d79c684-68b1-4ebb-9aa1-e46efd678723",
   "metadata": {},
   "source": [
    "Bu kod, modelin farklı test setlerinde (orijinal, manipüle edilmiş ve renk sabitliği uygulanmış) gösterdiği doğruluk oranlarını karşılaştırır ve bir grafik yardımıyla görselleştirir.\n",
    "\n",
    "Sonuçların Birleştirilmesi:\n",
    "\n",
    "results Sözlüğü: \n",
    "\n",
    "-Modelin üç farklı test setindeki doğruluk oranlarını içerir:\n",
    "\n",
    "-\"Orijinal Test Seti\": Eğitim sırasında kullanılan doğrulama setindeki doğruluk oranı. \n",
    "\n",
    "-history.history['val_accuracy'][-1]: Son epoch'taki doğrulama doğruluğu.\n",
    "\n",
    "-\"Manipüle Test Seti\": Manipüle edilmiş test setindeki doğruluk oranı. \n",
    "\n",
    "-manipulated_results[1]: Manipüle edilmiş test seti doğruluğu.\n",
    "\n",
    "-\"Renk Sabitliği Test Seti\": Renk sabitliği uygulanmış test setindeki doğruluk oranı.\n",
    "\n",
    "-corrected_results[1]: Renk sabitliği uygulanmış test seti doğruluğu.\n",
    "\n",
    "Sonuçların Yazdırılması:\n",
    "\n",
    "for Döngüsü:\n",
    "\n",
    "-Her test seti ve doğruluk oranı sırayla yazdırılır:\n",
    "\n",
    "Performansın Görselleştirilmesi:\n",
    "\n",
    "-plt.bar(): Test setlerinin isimlerini x ekseninde, doğruluk oranlarını y ekseninde gösterecek şekilde bir çubuk grafik çizer.\n",
    "\n",
    "-Eksen Ayarları: plt.ylabel('Doğruluk (%)'): Y ekseninde doğruluk oranını yüzdelik olarak gösterir. \n",
    "\n",
    "-plt.title('Farklı Test Setlerinde Model Performansı'): Grafiğe başlık ekler.\n",
    "\n",
    "Grafik Gösterimi:\n",
    "\n",
    "-plt.show(): Çubuğu ekranda görüntüler."
   ]
  },
  {
   "cell_type": "markdown",
   "id": "89e14ba4-06fe-44da-9277-dcc2fed64678",
   "metadata": {},
   "source": [
    "1. Veri Artırma Stratejilerini Genişlet\n",
    "Manipüle edilmiş görüntülerle çalışırken, daha çeşitli veri artırma stratejileri kullanılabilir:\n",
    "\n",
    "Gürültü ekleme: Görüntülere rastgele gürültü ekleyerek modelin dayanıklılığını artırabiliriz.\n",
    "Farklı ışıklandırma koşulları: Farklı parlaklık seviyelerinde görüntüler üreterek çeşitliliği artırabiliriz.\n",
    "Renk uzayı dönüşümleri: RGB yerine HSV veya LAB gibi renk uzaylarını kullanarak eğitim verisini çeşitlendirebiliriz.\n",
    "\n",
    "2. Daha İleri Model Kullanımı\n",
    "CNN mimarisini iyileştirmek veya transfer öğrenme (Transfer Learning) kullanmayı düşünebiliriz:\n",
    "\n",
    "Daha derin modeller: ResNet, VGG veya EfficientNet gibi önceden eğitilmiş modeller, bu tür problemler için daha iyi performans gösterebilir.\n",
    "Model optimizasyonu: Hiperparametre optimizasyonu yaparak (örneğin öğrenme oranı, batch size) performansı artırabiliriz.\n",
    "\n",
    "3. Manipülasyonlara Özel Eğitim\n",
    "Modeli manipüle edilmiş görüntülerde daha iyi genelleme yapması için eğitebiliriz:\n",
    "\n",
    "Manipüle edilmiş görüntüleri doğrudan eğitim setine dahil etmek.\n",
    "Eğitim sırasında, manipüle edilmiş görüntülerin model performansına olan etkisini kontrol etmek için özel bir kayıp fonksiyonu kullanmak.\n",
    "\n",
    "4. Performans İzleme ve İyileştirme\n",
    "Performans metriklerini analiz et: Modelin yanlış sınıflandırdığı örnekleri incelemek, sınıflar arasında dengesizlik olup olmadığını anlamaya yardımcı olabilir.\n",
    "Daha fazla eğitim verisi: Eğitim veri setinin boyutunu artırarak modelin daha fazla örnek görmesini sağlamak."
   ]
  },
  {
   "cell_type": "code",
   "execution_count": null,
   "id": "5e847009-543b-4966-8fb2-21ac1dac4402",
   "metadata": {},
   "outputs": [],
   "source": []
  }
 ],
 "metadata": {
  "kernelspec": {
   "display_name": "Python 3 (ipykernel)",
   "language": "python",
   "name": "python3"
  },
  "language_info": {
   "codemirror_mode": {
    "name": "ipython",
    "version": 3
   },
   "file_extension": ".py",
   "mimetype": "text/x-python",
   "name": "python",
   "nbconvert_exporter": "python",
   "pygments_lexer": "ipython3",
   "version": "3.12.4"
  }
 },
 "nbformat": 4,
 "nbformat_minor": 5
}
